{
 "cells": [
  {
   "cell_type": "code",
   "execution_count": 1,
   "metadata": {},
   "outputs": [],
   "source": [
    "import numpy as np\n",
    "import pandas as pd\n",
    "from sklearn.model_selection import train_test_split as tts\n",
    "from sklearn.linear_model import LogisticRegression, ridge_regression\n",
    "from sklearn.metrics import mutual_info_score\n",
    "from sklearn.metrics import accuracy_score\n",
    "import matplotlib.pyplot as plt\n",
    "import seaborn as sns\n",
    "\n",
    "%matplotlib inline"
   ]
  },
  {
   "cell_type": "code",
   "execution_count": 2,
   "metadata": {},
   "outputs": [],
   "source": [
    "data = pd.read_csv(\"AB_NYC_2019.csv\")"
   ]
  },
  {
   "cell_type": "code",
   "execution_count": 3,
   "metadata": {},
   "outputs": [],
   "source": [
    "new_data = data[['neighbourhood_group', 'room_type', 'latitude', 'longitude', 'minimum_nights',\n",
    "                 'number_of_reviews', 'reviews_per_month', 'calculated_host_listings_count',\n",
    "                 'availability_365', 'price']].copy()"
   ]
  },
  {
   "cell_type": "code",
   "execution_count": 4,
   "metadata": {},
   "outputs": [
    {
     "data": {
      "text/html": [
       "<div>\n",
       "<style scoped>\n",
       "    .dataframe tbody tr th:only-of-type {\n",
       "        vertical-align: middle;\n",
       "    }\n",
       "\n",
       "    .dataframe tbody tr th {\n",
       "        vertical-align: top;\n",
       "    }\n",
       "\n",
       "    .dataframe thead th {\n",
       "        text-align: right;\n",
       "    }\n",
       "</style>\n",
       "<table border=\"1\" class=\"dataframe\">\n",
       "  <thead>\n",
       "    <tr style=\"text-align: right;\">\n",
       "      <th></th>\n",
       "      <th>neighbourhood_group</th>\n",
       "      <th>room_type</th>\n",
       "      <th>latitude</th>\n",
       "      <th>longitude</th>\n",
       "      <th>minimum_nights</th>\n",
       "      <th>number_of_reviews</th>\n",
       "      <th>reviews_per_month</th>\n",
       "      <th>calculated_host_listings_count</th>\n",
       "      <th>availability_365</th>\n",
       "      <th>price</th>\n",
       "    </tr>\n",
       "  </thead>\n",
       "  <tbody>\n",
       "    <tr>\n",
       "      <th>0</th>\n",
       "      <td>Brooklyn</td>\n",
       "      <td>Private room</td>\n",
       "      <td>40.64749</td>\n",
       "      <td>-73.97237</td>\n",
       "      <td>1</td>\n",
       "      <td>9</td>\n",
       "      <td>0.21</td>\n",
       "      <td>6</td>\n",
       "      <td>365</td>\n",
       "      <td>149</td>\n",
       "    </tr>\n",
       "    <tr>\n",
       "      <th>1</th>\n",
       "      <td>Manhattan</td>\n",
       "      <td>Entire home/apt</td>\n",
       "      <td>40.75362</td>\n",
       "      <td>-73.98377</td>\n",
       "      <td>1</td>\n",
       "      <td>45</td>\n",
       "      <td>0.38</td>\n",
       "      <td>2</td>\n",
       "      <td>355</td>\n",
       "      <td>225</td>\n",
       "    </tr>\n",
       "    <tr>\n",
       "      <th>2</th>\n",
       "      <td>Manhattan</td>\n",
       "      <td>Private room</td>\n",
       "      <td>40.80902</td>\n",
       "      <td>-73.94190</td>\n",
       "      <td>3</td>\n",
       "      <td>0</td>\n",
       "      <td>NaN</td>\n",
       "      <td>1</td>\n",
       "      <td>365</td>\n",
       "      <td>150</td>\n",
       "    </tr>\n",
       "    <tr>\n",
       "      <th>3</th>\n",
       "      <td>Brooklyn</td>\n",
       "      <td>Entire home/apt</td>\n",
       "      <td>40.68514</td>\n",
       "      <td>-73.95976</td>\n",
       "      <td>1</td>\n",
       "      <td>270</td>\n",
       "      <td>4.64</td>\n",
       "      <td>1</td>\n",
       "      <td>194</td>\n",
       "      <td>89</td>\n",
       "    </tr>\n",
       "    <tr>\n",
       "      <th>4</th>\n",
       "      <td>Manhattan</td>\n",
       "      <td>Entire home/apt</td>\n",
       "      <td>40.79851</td>\n",
       "      <td>-73.94399</td>\n",
       "      <td>10</td>\n",
       "      <td>9</td>\n",
       "      <td>0.10</td>\n",
       "      <td>1</td>\n",
       "      <td>0</td>\n",
       "      <td>80</td>\n",
       "    </tr>\n",
       "  </tbody>\n",
       "</table>\n",
       "</div>"
      ],
      "text/plain": [
       "  neighbourhood_group        room_type  latitude  longitude  minimum_nights  \\\n",
       "0            Brooklyn     Private room  40.64749  -73.97237               1   \n",
       "1           Manhattan  Entire home/apt  40.75362  -73.98377               1   \n",
       "2           Manhattan     Private room  40.80902  -73.94190               3   \n",
       "3            Brooklyn  Entire home/apt  40.68514  -73.95976               1   \n",
       "4           Manhattan  Entire home/apt  40.79851  -73.94399              10   \n",
       "\n",
       "   number_of_reviews  reviews_per_month  calculated_host_listings_count  \\\n",
       "0                  9               0.21                               6   \n",
       "1                 45               0.38                               2   \n",
       "2                  0                NaN                               1   \n",
       "3                270               4.64                               1   \n",
       "4                  9               0.10                               1   \n",
       "\n",
       "   availability_365  price  \n",
       "0               365    149  \n",
       "1               355    225  \n",
       "2               365    150  \n",
       "3               194     89  \n",
       "4                 0     80  "
      ]
     },
     "execution_count": 4,
     "metadata": {},
     "output_type": "execute_result"
    }
   ],
   "source": [
    "new_data.head()"
   ]
  },
  {
   "cell_type": "markdown",
   "metadata": {},
   "source": [
    "# Question 1"
   ]
  },
  {
   "cell_type": "code",
   "execution_count": 5,
   "metadata": {},
   "outputs": [
    {
     "data": {
      "text/plain": [
       "0    Manhattan\n",
       "dtype: object"
      ]
     },
     "execution_count": 5,
     "metadata": {},
     "output_type": "execute_result"
    }
   ],
   "source": [
    "new_data['neighbourhood_group'].mode()"
   ]
  },
  {
   "cell_type": "markdown",
   "metadata": {},
   "source": [
    "Most common neighbourhood is Manhattan"
   ]
  },
  {
   "cell_type": "markdown",
   "metadata": {},
   "source": [
    "# Question 2"
   ]
  },
  {
   "cell_type": "code",
   "execution_count": 6,
   "metadata": {},
   "outputs": [
    {
     "data": {
      "text/html": [
       "<div>\n",
       "<style scoped>\n",
       "    .dataframe tbody tr th:only-of-type {\n",
       "        vertical-align: middle;\n",
       "    }\n",
       "\n",
       "    .dataframe tbody tr th {\n",
       "        vertical-align: top;\n",
       "    }\n",
       "\n",
       "    .dataframe thead th {\n",
       "        text-align: right;\n",
       "    }\n",
       "</style>\n",
       "<table border=\"1\" class=\"dataframe\">\n",
       "  <thead>\n",
       "    <tr style=\"text-align: right;\">\n",
       "      <th></th>\n",
       "      <th>latitude</th>\n",
       "      <th>longitude</th>\n",
       "      <th>minimum_nights</th>\n",
       "      <th>number_of_reviews</th>\n",
       "      <th>reviews_per_month</th>\n",
       "      <th>calculated_host_listings_count</th>\n",
       "      <th>availability_365</th>\n",
       "      <th>price</th>\n",
       "    </tr>\n",
       "  </thead>\n",
       "  <tbody>\n",
       "    <tr>\n",
       "      <th>latitude</th>\n",
       "      <td>1.000000</td>\n",
       "      <td>0.084788</td>\n",
       "      <td>0.024869</td>\n",
       "      <td>-0.015389</td>\n",
       "      <td>-0.010142</td>\n",
       "      <td>0.019517</td>\n",
       "      <td>-0.010983</td>\n",
       "      <td>0.033939</td>\n",
       "    </tr>\n",
       "    <tr>\n",
       "      <th>longitude</th>\n",
       "      <td>0.084788</td>\n",
       "      <td>1.000000</td>\n",
       "      <td>-0.062747</td>\n",
       "      <td>0.059094</td>\n",
       "      <td>0.145948</td>\n",
       "      <td>-0.114713</td>\n",
       "      <td>0.082731</td>\n",
       "      <td>-0.150019</td>\n",
       "    </tr>\n",
       "    <tr>\n",
       "      <th>minimum_nights</th>\n",
       "      <td>0.024869</td>\n",
       "      <td>-0.062747</td>\n",
       "      <td>1.000000</td>\n",
       "      <td>-0.080116</td>\n",
       "      <td>-0.121702</td>\n",
       "      <td>0.127960</td>\n",
       "      <td>0.144303</td>\n",
       "      <td>0.042799</td>\n",
       "    </tr>\n",
       "    <tr>\n",
       "      <th>number_of_reviews</th>\n",
       "      <td>-0.015389</td>\n",
       "      <td>0.059094</td>\n",
       "      <td>-0.080116</td>\n",
       "      <td>1.000000</td>\n",
       "      <td>0.549868</td>\n",
       "      <td>-0.072376</td>\n",
       "      <td>0.172028</td>\n",
       "      <td>-0.047954</td>\n",
       "    </tr>\n",
       "    <tr>\n",
       "      <th>reviews_per_month</th>\n",
       "      <td>-0.010142</td>\n",
       "      <td>0.145948</td>\n",
       "      <td>-0.121702</td>\n",
       "      <td>0.549868</td>\n",
       "      <td>1.000000</td>\n",
       "      <td>-0.009421</td>\n",
       "      <td>0.185791</td>\n",
       "      <td>-0.030608</td>\n",
       "    </tr>\n",
       "    <tr>\n",
       "      <th>calculated_host_listings_count</th>\n",
       "      <td>0.019517</td>\n",
       "      <td>-0.114713</td>\n",
       "      <td>0.127960</td>\n",
       "      <td>-0.072376</td>\n",
       "      <td>-0.009421</td>\n",
       "      <td>1.000000</td>\n",
       "      <td>0.225701</td>\n",
       "      <td>0.057472</td>\n",
       "    </tr>\n",
       "    <tr>\n",
       "      <th>availability_365</th>\n",
       "      <td>-0.010983</td>\n",
       "      <td>0.082731</td>\n",
       "      <td>0.144303</td>\n",
       "      <td>0.172028</td>\n",
       "      <td>0.185791</td>\n",
       "      <td>0.225701</td>\n",
       "      <td>1.000000</td>\n",
       "      <td>0.081829</td>\n",
       "    </tr>\n",
       "    <tr>\n",
       "      <th>price</th>\n",
       "      <td>0.033939</td>\n",
       "      <td>-0.150019</td>\n",
       "      <td>0.042799</td>\n",
       "      <td>-0.047954</td>\n",
       "      <td>-0.030608</td>\n",
       "      <td>0.057472</td>\n",
       "      <td>0.081829</td>\n",
       "      <td>1.000000</td>\n",
       "    </tr>\n",
       "  </tbody>\n",
       "</table>\n",
       "</div>"
      ],
      "text/plain": [
       "                                latitude  longitude  minimum_nights  \\\n",
       "latitude                        1.000000   0.084788        0.024869   \n",
       "longitude                       0.084788   1.000000       -0.062747   \n",
       "minimum_nights                  0.024869  -0.062747        1.000000   \n",
       "number_of_reviews              -0.015389   0.059094       -0.080116   \n",
       "reviews_per_month              -0.010142   0.145948       -0.121702   \n",
       "calculated_host_listings_count  0.019517  -0.114713        0.127960   \n",
       "availability_365               -0.010983   0.082731        0.144303   \n",
       "price                           0.033939  -0.150019        0.042799   \n",
       "\n",
       "                                number_of_reviews  reviews_per_month  \\\n",
       "latitude                                -0.015389          -0.010142   \n",
       "longitude                                0.059094           0.145948   \n",
       "minimum_nights                          -0.080116          -0.121702   \n",
       "number_of_reviews                        1.000000           0.549868   \n",
       "reviews_per_month                        0.549868           1.000000   \n",
       "calculated_host_listings_count          -0.072376          -0.009421   \n",
       "availability_365                         0.172028           0.185791   \n",
       "price                                   -0.047954          -0.030608   \n",
       "\n",
       "                                calculated_host_listings_count  \\\n",
       "latitude                                              0.019517   \n",
       "longitude                                            -0.114713   \n",
       "minimum_nights                                        0.127960   \n",
       "number_of_reviews                                    -0.072376   \n",
       "reviews_per_month                                    -0.009421   \n",
       "calculated_host_listings_count                        1.000000   \n",
       "availability_365                                      0.225701   \n",
       "price                                                 0.057472   \n",
       "\n",
       "                                availability_365     price  \n",
       "latitude                               -0.010983  0.033939  \n",
       "longitude                               0.082731 -0.150019  \n",
       "minimum_nights                          0.144303  0.042799  \n",
       "number_of_reviews                       0.172028 -0.047954  \n",
       "reviews_per_month                       0.185791 -0.030608  \n",
       "calculated_host_listings_count          0.225701  0.057472  \n",
       "availability_365                        1.000000  0.081829  \n",
       "price                                   0.081829  1.000000  "
      ]
     },
     "execution_count": 6,
     "metadata": {},
     "output_type": "execute_result"
    }
   ],
   "source": [
    "new_data.corr()"
   ]
  },
  {
   "cell_type": "code",
   "execution_count": 7,
   "metadata": {},
   "outputs": [],
   "source": [
    "c = new_data.corr().abs()\n",
    "\n",
    "s = c.unstack()\n",
    "so = s.sort_values(kind=\"quicksort\", ascending = False)"
   ]
  },
  {
   "cell_type": "code",
   "execution_count": 8,
   "metadata": {},
   "outputs": [
    {
     "data": {
      "text/plain": [
       "number_of_reviews               reviews_per_month                 0.549868\n",
       "reviews_per_month               number_of_reviews                 0.549868\n",
       "availability_365                calculated_host_listings_count    0.225701\n",
       "calculated_host_listings_count  availability_365                  0.225701\n",
       "availability_365                reviews_per_month                 0.185791\n",
       "reviews_per_month               availability_365                  0.185791\n",
       "number_of_reviews               availability_365                  0.172028\n",
       "availability_365                number_of_reviews                 0.172028\n",
       "longitude                       price                             0.150019\n",
       "price                           longitude                         0.150019\n",
       "reviews_per_month               longitude                         0.145948\n",
       "longitude                       reviews_per_month                 0.145948\n",
       "minimum_nights                  availability_365                  0.144303\n",
       "availability_365                minimum_nights                    0.144303\n",
       "calculated_host_listings_count  minimum_nights                    0.127960\n",
       "minimum_nights                  calculated_host_listings_count    0.127960\n",
       "reviews_per_month               minimum_nights                    0.121702\n",
       "minimum_nights                  reviews_per_month                 0.121702\n",
       "calculated_host_listings_count  longitude                         0.114713\n",
       "longitude                       calculated_host_listings_count    0.114713\n",
       "                                latitude                          0.084788\n",
       "latitude                        longitude                         0.084788\n",
       "longitude                       availability_365                  0.082731\n",
       "availability_365                longitude                         0.082731\n",
       "                                price                             0.081829\n",
       "price                           availability_365                  0.081829\n",
       "minimum_nights                  number_of_reviews                 0.080116\n",
       "number_of_reviews               minimum_nights                    0.080116\n",
       "                                calculated_host_listings_count    0.072376\n",
       "calculated_host_listings_count  number_of_reviews                 0.072376\n",
       "longitude                       minimum_nights                    0.062747\n",
       "minimum_nights                  longitude                         0.062747\n",
       "number_of_reviews               longitude                         0.059094\n",
       "longitude                       number_of_reviews                 0.059094\n",
       "price                           calculated_host_listings_count    0.057472\n",
       "calculated_host_listings_count  price                             0.057472\n",
       "price                           number_of_reviews                 0.047954\n",
       "number_of_reviews               price                             0.047954\n",
       "price                           minimum_nights                    0.042799\n",
       "minimum_nights                  price                             0.042799\n",
       "latitude                        price                             0.033939\n",
       "price                           latitude                          0.033939\n",
       "reviews_per_month               price                             0.030608\n",
       "price                           reviews_per_month                 0.030608\n",
       "minimum_nights                  latitude                          0.024869\n",
       "latitude                        minimum_nights                    0.024869\n",
       "                                calculated_host_listings_count    0.019517\n",
       "calculated_host_listings_count  latitude                          0.019517\n",
       "number_of_reviews               latitude                          0.015389\n",
       "latitude                        number_of_reviews                 0.015389\n",
       "                                availability_365                  0.010983\n",
       "availability_365                latitude                          0.010983\n",
       "reviews_per_month               latitude                          0.010142\n",
       "latitude                        reviews_per_month                 0.010142\n",
       "reviews_per_month               calculated_host_listings_count    0.009421\n",
       "calculated_host_listings_count  reviews_per_month                 0.009421\n",
       "dtype: float64"
      ]
     },
     "execution_count": 8,
     "metadata": {},
     "output_type": "execute_result"
    }
   ],
   "source": [
    "so[8:]"
   ]
  },
  {
   "cell_type": "markdown",
   "metadata": {},
   "source": [
    "The most correlated pair is number of reviews and reviews per month at 0.54\n",
    "\n",
    "Nothing technically qualifies as a strong correlation as there are no values > 0.6"
   ]
  },
  {
   "cell_type": "code",
   "execution_count": 9,
   "metadata": {},
   "outputs": [
    {
     "data": {
      "text/plain": [
       "0        149\n",
       "1        225\n",
       "2        150\n",
       "3         89\n",
       "4         80\n",
       "        ... \n",
       "48890     70\n",
       "48891     40\n",
       "48892    115\n",
       "48893     55\n",
       "48894     90\n",
       "Name: price, Length: 48895, dtype: int64"
      ]
     },
     "execution_count": 9,
     "metadata": {},
     "output_type": "execute_result"
    }
   ],
   "source": [
    "new_data['price']"
   ]
  },
  {
   "cell_type": "code",
   "execution_count": 10,
   "metadata": {},
   "outputs": [],
   "source": [
    "new_data['above_average'] = new_data['price'].apply(lambda x: 1 if x >= new_data['price'].mean() else 0)"
   ]
  },
  {
   "cell_type": "markdown",
   "metadata": {},
   "source": [
    "New column made with a binary outcome for price"
   ]
  },
  {
   "cell_type": "markdown",
   "metadata": {},
   "source": [
    "# Question 3"
   ]
  },
  {
   "cell_type": "code",
   "execution_count": 11,
   "metadata": {},
   "outputs": [
    {
     "data": {
      "text/plain": [
       "neighbourhood_group                object\n",
       "room_type                          object\n",
       "latitude                          float64\n",
       "longitude                         float64\n",
       "minimum_nights                      int64\n",
       "number_of_reviews                   int64\n",
       "reviews_per_month                 float64\n",
       "calculated_host_listings_count      int64\n",
       "availability_365                    int64\n",
       "price                               int64\n",
       "above_average                       int64\n",
       "dtype: object"
      ]
     },
     "execution_count": 11,
     "metadata": {},
     "output_type": "execute_result"
    }
   ],
   "source": [
    "new_data.dtypes"
   ]
  },
  {
   "cell_type": "code",
   "execution_count": 12,
   "metadata": {},
   "outputs": [],
   "source": [
    "X1 = new_data.drop([\"price\", \"above_average\"], axis = 1).copy()\n",
    "X1.fillna(0, inplace = True)\n",
    "y1 = new_data[\"above_average\"].copy()\n",
    "\n",
    "X_train1, X_test1, y_train1, y_test1 = tts(X1, y1, test_size = 0.4, random_state = 42)\n",
    "\n",
    "X_test1, X_val1, y_test1, y_val1 = tts(X_test1, y_test1, test_size = 0.5, random_state = 42)"
   ]
  },
  {
   "cell_type": "code",
   "execution_count": 13,
   "metadata": {},
   "outputs": [
    {
     "data": {
      "text/plain": [
       "0.05"
      ]
     },
     "execution_count": 13,
     "metadata": {},
     "output_type": "execute_result"
    }
   ],
   "source": [
    "round(mutual_info_score(X_train1['neighbourhood_group'], y_train1), 2)"
   ]
  },
  {
   "cell_type": "code",
   "execution_count": 14,
   "metadata": {},
   "outputs": [
    {
     "data": {
      "text/plain": [
       "0.14"
      ]
     },
     "execution_count": 14,
     "metadata": {},
     "output_type": "execute_result"
    }
   ],
   "source": [
    "round(mutual_info_score(X_train1['room_type'], y_train1), 2)"
   ]
  },
  {
   "cell_type": "markdown",
   "metadata": {},
   "source": [
    "Room type has the bigger mutual info score with the binarized price variable"
   ]
  },
  {
   "cell_type": "markdown",
   "metadata": {},
   "source": [
    "# Question 4"
   ]
  },
  {
   "cell_type": "code",
   "execution_count": 15,
   "metadata": {},
   "outputs": [],
   "source": [
    "X = new_data.drop([\"price\", \"above_average\"], axis = 1).copy()\n",
    "X.fillna(0, inplace = True)\n",
    "X = pd.get_dummies(X, drop_first = True)\n",
    "y = new_data[\"above_average\"].copy()\n",
    "\n",
    "X_train, X_test, y_train, y_test = tts(X, y, test_size = 0.4, random_state = 42)\n",
    "\n",
    "X_test, X_val, y_test, y_val = tts(X_test, y_test, test_size = 0.5, random_state = 42)"
   ]
  },
  {
   "cell_type": "code",
   "execution_count": 16,
   "metadata": {},
   "outputs": [
    {
     "data": {
      "text/plain": [
       "LogisticRegression(max_iter=10000, random_state=42)"
      ]
     },
     "execution_count": 16,
     "metadata": {},
     "output_type": "execute_result"
    }
   ],
   "source": [
    "model = LogisticRegression(solver = 'lbfgs', C = 1.0, random_state = 42, max_iter = 10000)\n",
    "model.fit(X_train, y_train)"
   ]
  },
  {
   "cell_type": "code",
   "execution_count": 17,
   "metadata": {},
   "outputs": [
    {
     "data": {
      "text/plain": [
       "0.7992"
      ]
     },
     "execution_count": 17,
     "metadata": {},
     "output_type": "execute_result"
    }
   ],
   "source": [
    "accuracy_og = round(accuracy_score(y_val, model.predict(X_val)), 4)\n",
    "accuracy_og"
   ]
  },
  {
   "cell_type": "markdown",
   "metadata": {},
   "source": [
    "# Question 5"
   ]
  },
  {
   "cell_type": "code",
   "execution_count": 18,
   "metadata": {},
   "outputs": [
    {
     "name": "stdout",
     "output_type": "stream",
     "text": [
      "('latitude', -6.265)\n",
      "('longitude', -3.438)\n",
      "('minimum_nights', -0.012)\n",
      "('number_of_reviews', -0.004)\n",
      "('reviews_per_month', -0.027)\n",
      "('calculated_host_listings_count', 0.004)\n",
      "('availability_365', 0.003)\n",
      "('neighbourhood_group_Brooklyn', 0.166)\n",
      "('neighbourhood_group_Manhattan', 1.653)\n",
      "('neighbourhood_group_Queens', 0.042)\n",
      "('neighbourhood_group_Staten Island', -1.507)\n",
      "('room_type_Private room', -2.762)\n",
      "('room_type_Shared room', -2.992)\n"
     ]
    }
   ],
   "source": [
    "for i in list(zip(X_train.columns, model.coef_[0].round(3))):\n",
    "    print(i)"
   ]
  },
  {
   "cell_type": "code",
   "execution_count": 19,
   "metadata": {},
   "outputs": [],
   "source": [
    "X2 = new_data.drop([\"price\", \"above_average\"], axis = 1).copy()\n",
    "X2.fillna(0, inplace = True)\n",
    "X2 = pd.get_dummies(X, drop_first = True)\n",
    "y2 = new_data[\"above_average\"].copy()"
   ]
  },
  {
   "cell_type": "code",
   "execution_count": 20,
   "metadata": {},
   "outputs": [],
   "source": [
    "col_accuracy = {}\n",
    "\n",
    "for col in X2.columns:\n",
    "    X3 = X2.drop(col, axis = 1).copy()\n",
    "    X_train3, X_test3, y_train3, y_test3 = tts(X3, y2, test_size = 0.4, random_state = 42)\n",
    "    X_test3, X_val3, y_test3, y_val3 = tts(X_test3, y_test3, test_size = 0.5, random_state = 42)\n",
    "    model3 = LogisticRegression(solver = 'lbfgs', C = 1.0, random_state = 42, max_iter = 10000)\n",
    "    model3.fit(X_train3, y_train3)\n",
    "    col_accuracy[col] = round(accuracy_score(y_val3, model3.predict(X_val3)), 4)"
   ]
  },
  {
   "cell_type": "code",
   "execution_count": 21,
   "metadata": {},
   "outputs": [
    {
     "data": {
      "text/plain": [
       "{'latitude': 0.7943,\n",
       " 'longitude': 0.794,\n",
       " 'minimum_nights': 0.8007,\n",
       " 'number_of_reviews': 0.8002,\n",
       " 'reviews_per_month': 0.7994,\n",
       " 'calculated_host_listings_count': 0.7989,\n",
       " 'availability_365': 0.7894,\n",
       " 'neighbourhood_group_Brooklyn': 0.799,\n",
       " 'neighbourhood_group_Manhattan': 0.8006,\n",
       " 'neighbourhood_group_Queens': 0.7995,\n",
       " 'neighbourhood_group_Staten Island': 0.7992,\n",
       " 'room_type_Private room': 0.7361,\n",
       " 'room_type_Shared room': 0.793}"
      ]
     },
     "execution_count": 21,
     "metadata": {},
     "output_type": "execute_result"
    }
   ],
   "source": [
    "col_accuracy"
   ]
  },
  {
   "cell_type": "code",
   "execution_count": 22,
   "metadata": {},
   "outputs": [
    {
     "name": "stdout",
     "output_type": "stream",
     "text": [
      "latitude: 0.0049000000000000155\n",
      "longitude: 0.005199999999999982\n",
      "minimum_nights: -0.0014999999999999458\n",
      "number_of_reviews: -0.0010000000000000009\n",
      "reviews_per_month: -0.00019999999999997797\n",
      "calculated_host_listings_count: 0.00029999999999996696\n",
      "availability_365: 0.009800000000000031\n",
      "neighbourhood_group_Brooklyn: 0.00019999999999997797\n",
      "neighbourhood_group_Manhattan: -0.0013999999999999568\n",
      "neighbourhood_group_Queens: -0.00029999999999996696\n",
      "neighbourhood_group_Staten Island: 0.0\n",
      "room_type_Private room: 0.06310000000000004\n",
      "room_type_Shared room: 0.006199999999999983\n"
     ]
    }
   ],
   "source": [
    "for key in col_accuracy.keys():\n",
    "    print(f'{key}: {accuracy_og - col_accuracy[key]}')"
   ]
  },
  {
   "cell_type": "markdown",
   "metadata": {},
   "source": [
    "Smallest difference between a feature elimination and original accuracy is when the neighbourhood variables are dropped."
   ]
  },
  {
   "cell_type": "markdown",
   "metadata": {},
   "source": [
    "# Question 6"
   ]
  },
  {
   "cell_type": "code",
   "execution_count": 23,
   "metadata": {},
   "outputs": [],
   "source": [
    "def RMSE(y, y_pred):\n",
    "    return round(np.mean((y_pred - y)**2)**0.5, 5)"
   ]
  },
  {
   "cell_type": "code",
   "execution_count": 24,
   "metadata": {},
   "outputs": [],
   "source": [
    "alphas = [0, 0.01, 0.1, 1, 10]"
   ]
  },
  {
   "cell_type": "code",
   "execution_count": 25,
   "metadata": {},
   "outputs": [],
   "source": [
    "new_data2 = data[['neighbourhood_group', 'room_type', 'latitude', 'longitude', 'minimum_nights',\n",
    "                 'number_of_reviews', 'reviews_per_month', 'calculated_host_listings_count',\n",
    "                 'availability_365', 'price']].copy().fillna(0)"
   ]
  },
  {
   "cell_type": "code",
   "execution_count": 26,
   "metadata": {},
   "outputs": [],
   "source": [
    "X5 = new_data2.drop([\"price\"], axis = 1).copy()\n",
    "X5 = pd.get_dummies(X5, drop_first = True)\n",
    "y5 = new_data2[\"price\"].copy()\n",
    "y5 = np.log1p(y5)\n",
    "\n",
    "X_train5, X_test5, y_train5, y_test5 = tts(X5, y5, test_size = 0.4, random_state = 42)\n",
    "\n",
    "X_test5, X_val5, y_test5, y_val5 = tts(X_test5, y_test5, test_size = 0.5, random_state = 42)"
   ]
  },
  {
   "cell_type": "code",
   "execution_count": 27,
   "metadata": {},
   "outputs": [],
   "source": [
    "alpha_comp = {}\n",
    "\n",
    "for alph in alphas:\n",
    "    ridge_model, intercept = ridge_regression(X_train5, y_train5, alpha = alph, return_intercept = True)\n",
    "    y_pred_val5 = X_val5.dot(ridge_model) + intercept\n",
    "    alpha_comp[alph] = RMSE(y_val5, y_pred_val5)"
   ]
  },
  {
   "cell_type": "code",
   "execution_count": 28,
   "metadata": {},
   "outputs": [
    {
     "data": {
      "text/plain": [
       "{0: 0.52799, 0.01: 0.52799, 0.1: 0.52799, 1: 0.52799, 10: 0.52803}"
      ]
     },
     "execution_count": 28,
     "metadata": {},
     "output_type": "execute_result"
    }
   ],
   "source": [
    "alpha_comp"
   ]
  },
  {
   "cell_type": "markdown",
   "metadata": {},
   "source": [
    "Everything aside from alpha = 10 seems to equally good"
   ]
  }
 ],
 "metadata": {
  "kernelspec": {
   "display_name": "Python 3",
   "language": "python",
   "name": "python3"
  },
  "language_info": {
   "codemirror_mode": {
    "name": "ipython",
    "version": 3
   },
   "file_extension": ".py",
   "mimetype": "text/x-python",
   "name": "python",
   "nbconvert_exporter": "python",
   "pygments_lexer": "ipython3",
   "version": "3.8.3"
  }
 },
 "nbformat": 4,
 "nbformat_minor": 4
}
